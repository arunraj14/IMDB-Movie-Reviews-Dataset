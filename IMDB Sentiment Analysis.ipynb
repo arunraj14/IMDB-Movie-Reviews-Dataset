{
 "cells": [
  {
   "cell_type": "markdown",
   "metadata": {},
   "source": [
    "## About this Notebook\n",
    "\n",
    "In this kernel, I work on the IMDB movie review dataset and to predict sentiments from the movie review. I will visualize the dataset using seaborn and will perform text preprocessing. It is an imbalanced dataset, so i will try to solve that problem as well. \n",
    "\n"
   ]
  },
  {
   "cell_type": "markdown",
   "metadata": {},
   "source": [
    "## 1. Import Libraries"
   ]
  },
  {
   "cell_type": "code",
   "execution_count": 6,
   "metadata": {},
   "outputs": [],
   "source": [
    "# python libraries to read & plot data\n",
    "import pandas as pd\n",
    "import numpy as np\n",
    "import string\n",
    "import pickle\n",
    "import matplotlib.pyplot as plt\n",
    "import seaborn as sns\n",
    "sns.set_style('darkgrid')\n",
    "\n",
    "# sklearn libraries for prediction and evaluation\n",
    "from sklearn import model_selection, preprocessing, metrics, svm\n",
    "from sklearn.linear_model import LogisticRegression\n",
    "from sklearn.feature_extraction.text import TfidfVectorizer\n",
    "from sklearn.metrics import classification_report,confusion_matrix,accuracy_score,precision_score,recall_score,f1_score\n",
    "from sklearn.tree import DecisionTreeClassifier\n",
    "\n",
    "# imblearn for balancing dataset\n",
    "from imblearn.under_sampling import RandomUnderSampler\n",
    "from imblearn.over_sampling import SMOTE, RandomOverSampler\n",
    "from imblearn.pipeline import Pipeline,make_pipeline\n",
    "\n",
    "# nltk for text processing\n",
    "import nltk as nltk\n",
    "from nltk.corpus import stopwords\n",
    "from nltk.stem import PorterStemmer\n",
    "from bs4 import BeautifulSoup\n",
    "\n",
    "# Remove Special Charactors\n",
    "import re"
   ]
  },
  {
   "cell_type": "markdown",
   "metadata": {},
   "source": [
    "# 2. Data Exploration"
   ]
  },
  {
   "cell_type": "code",
   "execution_count": 7,
   "metadata": {},
   "outputs": [
    {
     "name": "stdout",
     "output_type": "stream",
     "text": [
      "Data Set: (27502, 2) 27502\n"
     ]
    }
   ],
   "source": [
    "# Read dataset from local machine\n",
    "df = pd.read_csv(r'C:\\Users\\kvbt565\\Desktop\\IMDB Usecase\\IMDB Dataset\\IMDB Dataset.csv') # use local directory here\n",
    "print(\"Data Set:\"% df.columns, df.shape, len(df))"
   ]
  },
  {
   "cell_type": "code",
   "execution_count": 8,
   "metadata": {},
   "outputs": [
    {
     "data": {
      "text/html": [
       "<div>\n",
       "<style scoped>\n",
       "    .dataframe tbody tr th:only-of-type {\n",
       "        vertical-align: middle;\n",
       "    }\n",
       "\n",
       "    .dataframe tbody tr th {\n",
       "        vertical-align: top;\n",
       "    }\n",
       "\n",
       "    .dataframe thead th {\n",
       "        text-align: right;\n",
       "    }\n",
       "</style>\n",
       "<table border=\"1\" class=\"dataframe\">\n",
       "  <thead>\n",
       "    <tr style=\"text-align: right;\">\n",
       "      <th></th>\n",
       "      <th>review</th>\n",
       "      <th>sentiment</th>\n",
       "    </tr>\n",
       "  </thead>\n",
       "  <tbody>\n",
       "    <tr>\n",
       "      <td>count</td>\n",
       "      <td>27502</td>\n",
       "      <td>27502</td>\n",
       "    </tr>\n",
       "    <tr>\n",
       "      <td>unique</td>\n",
       "      <td>27358</td>\n",
       "      <td>2</td>\n",
       "    </tr>\n",
       "    <tr>\n",
       "      <td>top</td>\n",
       "      <td>Loved today's show!!! It was a variety and not...</td>\n",
       "      <td>positive</td>\n",
       "    </tr>\n",
       "    <tr>\n",
       "      <td>freq</td>\n",
       "      <td>5</td>\n",
       "      <td>25000</td>\n",
       "    </tr>\n",
       "  </tbody>\n",
       "</table>\n",
       "</div>"
      ],
      "text/plain": [
       "                                                   review sentiment\n",
       "count                                               27502     27502\n",
       "unique                                              27358         2\n",
       "top     Loved today's show!!! It was a variety and not...  positive\n",
       "freq                                                    5     25000"
      ]
     },
     "execution_count": 8,
     "metadata": {},
     "output_type": "execute_result"
    }
   ],
   "source": [
    "df.describe()"
   ]
  },
  {
   "cell_type": "code",
   "execution_count": 9,
   "metadata": {},
   "outputs": [
    {
     "name": "stdout",
     "output_type": "stream",
     "text": [
      "Positive:  90.90247981964949 %\n",
      "Negative:  9.09752018035052 %\n"
     ]
    }
   ],
   "source": [
    "# Percentage of Positive/Negative\n",
    "print(\"Positive: \", df.sentiment.value_counts()[0]/len(df)*100,\"%\")\n",
    "print(\"Negative: \", df.sentiment.value_counts()[1]/len(df)*100,\"%\")"
   ]
  },
  {
   "cell_type": "markdown",
   "metadata": {},
   "source": [
    "Clearly, we have an imbalanced dataset and need to consider balancing dataset before prediction"
   ]
  },
  {
   "cell_type": "code",
   "execution_count": 10,
   "metadata": {},
   "outputs": [
    {
     "data": {
      "image/png": "[encoded data removed]",
      "text/plain": [
       "<Figure size 576x288 with 1 Axes>"
      ]
     },
     "metadata": {},
     "output_type": "display_data"
    }
   ],
   "source": [
    "colors = sns.color_palette('deep')\n",
    "\n",
    "plt.figure(figsize=(8,4), tight_layout=True)\n",
    "plt.bar(x=['Positive', 'Negative'],\n",
    "        height=df['sentiment'].value_counts(),\n",
    "        color=colors[:2])\n",
    "plt.title('Sentiment')\n",
    "plt.savefig('sentiment.png')\n",
    "plt.show()"
   ]
  },
  {
   "cell_type": "markdown",
   "metadata": {},
   "source": [
    "## 3. Data Preprocessing"
   ]
  },
  {
   "cell_type": "code",
   "execution_count": 80,
   "metadata": {},
   "outputs": [],
   "source": [
    "movie_review = df.copy()"
   ]
  },
  {
   "cell_type": "code",
   "execution_count": 81,
   "metadata": {},
   "outputs": [],
   "source": [
    "# Stemmer to update the root word\n",
    "porter=PorterStemmer()\n",
    "\n",
    "# Stopwords except 'from'\n",
    "all_stopwords = stopwords.words('english')\n",
    "all_stopwords.remove('from')\n",
    "#all_stopwords.extend(['the' , 'to' , 'it' , 'i' , 't'])"
   ]
  },
  {
   "cell_type": "code",
   "execution_count": 82,
   "metadata": {},
   "outputs": [],
   "source": [
    "# Change text to lowercase\n",
    "movie_review['review'] = movie_review['review'].str.lower()\n",
    "\n",
    "# Removing xml related characters\n",
    "movie_review['review'] = movie_review['review'].apply(lambda x: BeautifulSoup(x, 'lxml').get_text())\n",
    "\n",
    "# Removing Non-Digit and Non-letter parts\n",
    "movie_review['review'] = movie_review['review'].replace(to_replace=r\"[^A-Za-z0-9]+\", value=r\" \", regex=True)\n",
    "#movie_review['review'] = movie_review['review'].apply(lambda x: x.translate(str.maketrans('','',string.punctuation)))\n",
    "\n",
    "# Removing standalone numbers\n",
    "movie_review['review'] = movie_review['review'].apply(lambda x: ' '.join([word for word in x.split() if not word.isdigit()]))\n",
    "\n",
    "# Removing stopwords \n",
    "movie_review['review'] = movie_review['review'].apply(lambda x: ' '.join([word for word in str(x).split() if word not in (all_stopwords)]))\n",
    "\n",
    "# Updating the text to its root word\n",
    "movie_review['review'] = movie_review['review'].apply(lambda x :' '.join([porter.stem(word) for word in x.split()]))"
   ]
  },
  {
   "cell_type": "code",
   "execution_count": 83,
   "metadata": {},
   "outputs": [],
   "source": [
    "# Separate the Dataset into feature & target dataframes\n",
    "X = movie_review['review']\n",
    "Y = movie_review['sentiment']"
   ]
  },
  {
   "cell_type": "markdown",
   "metadata": {},
   "source": [
    "## 4. Split Train Test Data\n",
    "\n",
    "Splitting 80% of data as trian data & 20% of data as test data"
   ]
  },
  {
   "cell_type": "code",
   "execution_count": 84,
   "metadata": {},
   "outputs": [],
   "source": [
    "x_train, x_test, y_train, y_test = model_selection.train_test_split(X, Y, test_size=0.20, random_state=7)"
   ]
  },
  {
   "cell_type": "code",
   "execution_count": 85,
   "metadata": {},
   "outputs": [],
   "source": [
    "# Encode the target variable \n",
    "encoder = preprocessing.LabelEncoder()\n",
    "y_train = encoder.fit_transform(y_train)\n",
    "y_test = encoder.fit_transform(y_test)"
   ]
  },
  {
   "cell_type": "code",
   "execution_count": 86,
   "metadata": {},
   "outputs": [
    {
     "name": "stdout",
     "output_type": "stream",
     "text": [
      "Count of positive class in trainig data set : 19978\n",
      "Count of negative class in trainig data set : 2023\n"
     ]
    }
   ],
   "source": [
    "print(\"Count of positive class in trainig data set :\" ,(sum(y_train==1)))\n",
    "print(\"Count of negative class in trainig data set :\",format(sum(y_train==0)))"
   ]
  },
  {
   "cell_type": "code",
   "execution_count": 87,
   "metadata": {},
   "outputs": [
    {
     "name": "stdout",
     "output_type": "stream",
     "text": [
      "Count of positive class in testing data set : 5022\n",
      "Count of negative class in testing data set : 479\n"
     ]
    }
   ],
   "source": [
    "print(\"Count of positive class in testing data set :\" ,(sum(y_test==1)))\n",
    "print(\"Count of negative class in testing data set :\",format(sum(y_test==0)))"
   ]
  },
  {
   "cell_type": "code",
   "execution_count": 88,
   "metadata": {},
   "outputs": [
    {
     "data": {
      "text/html": [
       "<div>\n",
       "<style scoped>\n",
       "    .dataframe tbody tr th:only-of-type {\n",
       "        vertical-align: middle;\n",
       "    }\n",
       "\n",
       "    .dataframe tbody tr th {\n",
       "        vertical-align: top;\n",
       "    }\n",
       "\n",
       "    .dataframe thead th {\n",
       "        text-align: right;\n",
       "    }\n",
       "</style>\n",
       "<table border=\"1\" class=\"dataframe\">\n",
       "  <thead>\n",
       "    <tr style=\"text-align: right;\">\n",
       "      <th></th>\n",
       "      <th>review</th>\n",
       "    </tr>\n",
       "  </thead>\n",
       "  <tbody>\n",
       "    <tr>\n",
       "      <td>0</td>\n",
       "      <td>great concert featur best song band year caree...</td>\n",
       "    </tr>\n",
       "    <tr>\n",
       "      <td>1</td>\n",
       "      <td>scale suicid sweetheart got from from everyon ...</td>\n",
       "    </tr>\n",
       "    <tr>\n",
       "      <td>2</td>\n",
       "      <td>six month old babi home time time fight sleep ...</td>\n",
       "    </tr>\n",
       "    <tr>\n",
       "      <td>3</td>\n",
       "      <td>came sneak preview film laugh everi sec end fu...</td>\n",
       "    </tr>\n",
       "    <tr>\n",
       "      <td>4</td>\n",
       "      <td>whilst love haunt hous movi amityvil poltergei...</td>\n",
       "    </tr>\n",
       "  </tbody>\n",
       "</table>\n",
       "</div>"
      ],
      "text/plain": [
       "                                              review\n",
       "0  great concert featur best song band year caree...\n",
       "1  scale suicid sweetheart got from from everyon ...\n",
       "2  six month old babi home time time fight sleep ...\n",
       "3  came sneak preview film laugh everi sec end fu...\n",
       "4  whilst love haunt hous movi amityvil poltergei..."
      ]
     },
     "execution_count": 88,
     "metadata": {},
     "output_type": "execute_result"
    }
   ],
   "source": [
    "# Run this cell only if we need to download the test dataset\n",
    "test = x_test.to_frame().reset_index()\n",
    "test.drop('index',axis=1,inplace=True)\n",
    "#test.to_csv(r'test_imdb_x.csv',index=False)\n",
    "test.head()"
   ]
  },
  {
   "cell_type": "code",
   "execution_count": 89,
   "metadata": {},
   "outputs": [],
   "source": [
    "# Run this cell only if we need to download the test result dataset\n",
    "pd.DataFrame(y_test).to_csv(\"test_imdb_y.csv\",index=None,header=None)"
   ]
  },
  {
   "cell_type": "markdown",
   "metadata": {},
   "source": [
    "## 5. Vectorization\n",
    "\n",
    "We need to convert the text into numerical values before passing it to the Model for training & prediction. Basic algorithms like one-hot encoder, Count Vectorizer can be used but i am using Tf-Idf vectorizer since it performs much better and provides a logical vectorization.\n",
    "\n",
    "We can also use other embedding techinques like Word2vec, Glove Or BERT which will give us the context based importance of the words"
   ]
  },
  {
   "cell_type": "markdown",
   "metadata": {},
   "source": [
    "5.1 Tf-idf Vectorization\n",
    "\n",
    "Term Frequency             --> tf(t,d) = count of t in d / number of words in d <br>\n",
    "Document Frequency         --> df(t)   = occurrence of t in documents  <br>\n",
    "Inverse Document Frequency --> idf(t) = log(N/(df + 1)) <br>\n",
    "TF - IDF                   --> tf-idf(t, d) = tf(t, d) * log(N/(df + 1)) \n"
   ]
  },
  {
   "cell_type": "code",
   "execution_count": 49,
   "metadata": {},
   "outputs": [],
   "source": [
    "# word level tf-idf\n",
    "tfidf_vect = TfidfVectorizer(analyzer='word', token_pattern=r'\\w{1,}', max_features=100000)\n",
    "xtrain_tfidf =  tfidf_vect.fit_transform(x_train)\n",
    "xtest_tfidf =  tfidf_vect.transform(x_test)"
   ]
  },
  {
   "cell_type": "code",
   "execution_count": 50,
   "metadata": {},
   "outputs": [
    {
     "name": "stdout",
     "output_type": "stream",
     "text": [
      "Tfidf_train: (22001, 48202)\n",
      "Tfidf_test: (5501, 48202)\n"
     ]
    }
   ],
   "source": [
    "print('Tfidf_train:',xtrain_tfidf.shape)\n",
    "print('Tfidf_test:',xtest_tfidf.shape)"
   ]
  },
  {
   "cell_type": "markdown",
   "metadata": {},
   "source": [
    "## 6. Balancing dataset & Model Selection\n",
    "\n",
    "Here I am trying to explore the right algorithm for balancing the dataset and also the right model for prediction. Also, i used F1 score to evaluate the performance for each model as it gives better results for imbalanced dataset\n"
   ]
  },
  {
   "cell_type": "code",
   "execution_count": 51,
   "metadata": {},
   "outputs": [],
   "source": [
    "# Return the F1 Score\n",
    "def train_model(classifier, vector_train, tgt, vector_test):    \n",
    "    classifier.fit(vector_train, tgt)    \n",
    "    predictions = classifier.predict(vector_test)\n",
    "    return metrics.f1_score(y_test,predictions)"
   ]
  },
  {
   "cell_type": "code",
   "execution_count": 53,
   "metadata": {},
   "outputs": [
    {
     "name": "stdout",
     "output_type": "stream",
     "text": [
      "LR Baseline, WordLevel TFIDF:  0.975349632759835\n",
      "SVM Baseline, WordLevel TFIDF:  0.9765492465821775\n",
      "Decision Tree Baseline, WordLevel TFIDF:  0.9493607168025773\n"
     ]
    }
   ],
   "source": [
    "# Random Over Sampling\n",
    "ros = RandomOverSampler(random_state=777)\n",
    "ros_xtrain_tfidf, ros_train_y = ros.fit_resample(xtrain_tfidf, y_train)\n",
    "\n",
    "# Logistic Regression\n",
    "Acc_Ros = train_model(LogisticRegression(random_state=0,multi_class='multinomial'),ros_xtrain_tfidf, ros_train_y, xtest_tfidf)\n",
    "print (\"LR Baseline, WordLevel TFIDF: \", Acc_Ros)\n",
    "\n",
    "# Support Vector classification\n",
    "Acc_Ros = train_model(svm.LinearSVC(), ros_xtrain_tfidf, ros_train_y, xtest_tfidf)\n",
    "print (\"SVM Baseline, WordLevel TFIDF: \", Acc_Ros)\n",
    "\n",
    "# Decision Tree classifier\n",
    "Acc_Ros = train_model(DecisionTreeClassifier(), ros_xtrain_tfidf, ros_train_y, xtest_tfidf)\n",
    "print (\"Decision Tree Baseline, WordLevel TFIDF: \", Acc_Ros)"
   ]
  },
  {
   "cell_type": "code",
   "execution_count": 392,
   "metadata": {},
   "outputs": [
    {
     "name": "stdout",
     "output_type": "stream",
     "text": [
      "LR ORIGINAL, WordLevel TFIDF:  0.9596136060014387\n",
      "SVM ROS, WordLevel TFIDF:  0.9566831683168316\n",
      "Decision Tree Baseline, WordLevel TFIDF:  0.8739403280854343\n"
     ]
    }
   ],
   "source": [
    "# Random Under Sampling\n",
    "rus = RandomUnderSampler(random_state=777)\n",
    "rus_xtrain_tfidf, rus_train_y = rus.fit_resample(xtrain_tfidf, y_train)\n",
    "\n",
    "# Logistic Regression\n",
    "Acc_Rus = train_model(LogisticRegression(random_state=0, solver='lbfgs',multi_class='multinomial'),rus_xtrain_tfidf, rus_train_y, xtest_tfidf)\n",
    "print(\"LR ORIGINAL, WordLevel TFIDF: \", Acc_Rus)\n",
    "     \n",
    "# Support Vector classification\n",
    "Acc_Rus = train_model(svm.LinearSVC(),rus_xtrain_tfidf, rus_train_y, xtest_tfidf)\n",
    "print (\"SVM ROS, WordLevel TFIDF: \", Acc_Rus)\n",
    "\n",
    "# Decision Tree classifier\n",
    "Acc_Rus = train_model(DecisionTreeClassifier(), rus_xtrain_tfidf, rus_train_y, xtest_tfidf)\n",
    "print (\"Decision Tree Baseline, WordLevel TFIDF: \", Acc_Rus)"
   ]
  },
  {
   "cell_type": "code",
   "execution_count": 404,
   "metadata": {},
   "outputs": [
    {
     "name": "stdout",
     "output_type": "stream",
     "text": [
      "LR ORIGINAL, WordLevel TFIDF:  0.9812524930195452\n",
      "SVM ROS, WordLevel TFIDF:  0.9797216699801192\n",
      "Decision Tree Baseline, WordLevel TFIDF:  0.9338257925515543\n"
     ]
    }
   ],
   "source": [
    "# SMOTE(Synthetic Minority Oversampling Technique)\n",
    "smote = SMOTE(sampling_strategy = 1 ,k_neighbors = 3, random_state=1)   \n",
    "smot_train_tfidf, smot_train_y = smote.fit_resample(xtrain_tfidf, y_train)\n",
    "\n",
    "# Logistic Regression\n",
    "Smot_Rus = train_model(LogisticRegression(random_state=0, solver='lbfgs',multi_class='multinomial'),smot_train_tfidf, smot_train_y, xtest_tfidf)\n",
    "print(\"LR ORIGINAL, WordLevel TFIDF: \", Smot_Rus)\n",
    "     \n",
    "# Support Vector classification    \n",
    "Smot_Rus = train_model(svm.LinearSVC(),smot_train_tfidf, smot_train_y, xtest_tfidf)\n",
    "print (\"SVM ROS, WordLevel TFIDF: \", Smot_Rus)\n",
    "\n",
    "Smot_Rus = train_model(DecisionTreeClassifier(), smot_train_tfidf, smot_train_y, xtest_tfidf)\n",
    "print (\"Decision Tree Baseline, WordLevel TFIDF: \", Smot_Rus)"
   ]
  },
  {
   "cell_type": "markdown",
   "metadata": {},
   "source": [
    "From the above results sampling with SMOTE and prediction with Logistic Regression gives a better result. Hence, confirming the Accuracy as well for them"
   ]
  },
  {
   "cell_type": "code",
   "execution_count": 55,
   "metadata": {},
   "outputs": [],
   "source": [
    "# Return the Accuracy Score\n",
    "def train_model(classifier, vector_train, tgt, vector_test):    \n",
    "    classifier.fit(vector_train, tgt)    \n",
    "    predictions = classifier.predict(vector_test)\n",
    "    return metrics.accuracy_score(y_test,predictions)"
   ]
  },
  {
   "cell_type": "code",
   "execution_count": 396,
   "metadata": {},
   "outputs": [
    {
     "name": "stdout",
     "output_type": "stream",
     "text": [
      "LR ORIGINAL, WordLevel TFIDF:  0.9658243955644429\n",
      "SVM ROS, WordLevel TFIDF:  0.9629158334848209\n",
      "Decision Tree Baseline, WordLevel TFIDF:  0.8807489547355026\n"
     ]
    }
   ],
   "source": [
    "# SMOTE(Synthetic Minority Oversampling Technique) -- Accuraccy\n",
    "smote = SMOTE(sampling_strategy = 1 ,k_neighbors = 3, random_state=1)   \n",
    "smot_train_tfidf, smot_train_y = smote.fit_resample(xtrain_tfidf, y_train.ravel())\n",
    "\n",
    "# Logistic Regression\n",
    "Smot_Rus = train_model(linear_model.LogisticRegression(random_state=0, solver='lbfgs',multi_class='multinomial'),smot_train_tfidf, smot_train_y, xtest_tfidf)\n",
    "print(\"LR ORIGINAL, WordLevel TFIDF: \", Smot_Rus)\n",
    "     \n",
    "# Support Vector classification    \n",
    "Smot_Rus = train_model(svm.LinearSVC(),smot_train_tfidf, smot_train_y, xtest_tfidf)\n",
    "print (\"SVM ROS, WordLevel TFIDF: \", Smot_Rus)\n",
    "\n",
    "# Decision Tree classifier\n",
    "Smot_Rus = train_model(DecisionTreeClassifier(), smot_train_tfidf, smot_train_y, xtest_tfidf)\n",
    "print (\"Decision Tree Baseline, WordLevel TFIDF: \", Smot_Rus)"
   ]
  },
  {
   "cell_type": "markdown",
   "metadata": {},
   "source": [
    "It is clear that Logistic Regression has an edge over SVM with SMOTE sampling. Now, its time to tune the Hyperparameters"
   ]
  },
  {
   "cell_type": "markdown",
   "metadata": {},
   "source": [
    "## 7. Tuning the Model"
   ]
  },
  {
   "cell_type": "code",
   "execution_count": 400,
   "metadata": {},
   "outputs": [
    {
     "data": {
      "text/plain": [
       "GridSearchCV(cv=5, estimator=LogisticRegression(max_iter=1000),\n",
       "             param_grid={'C': [0.001, 0.01, 0.1, 1, 10],\n",
       "                         'multi_class': ['multinomial'], 'random_state': [0],\n",
       "                         'solver': ['lbfgs']})"
      ]
     },
     "execution_count": 400,
     "metadata": {},
     "output_type": "execute_result"
    }
   ],
   "source": [
    "# Set the parameters\n",
    "params = {'solver':['lbfgs'],'C': [0.001,0.01,0.1,1,10],'random_state':[0],'multi_class':['multinomial']}\n",
    "\n",
    "# Run Grid Search against different input Parameters\n",
    "svc = LogisticRegression(max_iter=1000)\n",
    "svc_grid = model_selection.GridSearchCV(svc,params, cv = 5)\n",
    "svc_grid.fit(smot_train_tfidf, smot_train_y)"
   ]
  },
  {
   "cell_type": "code",
   "execution_count": 401,
   "metadata": {},
   "outputs": [
    {
     "name": "stdout",
     "output_type": "stream",
     "text": [
      "{'C': 10, 'multi_class': 'multinomial', 'random_state': 0, 'solver': 'lbfgs'}\n",
      "LogisticRegression(C=10, max_iter=1000, multi_class='multinomial',\n",
      "                   random_state=0)\n"
     ]
    }
   ],
   "source": [
    "# Grid Search gives the best parameters for the model \n",
    "print(svc_grid.best_params_)\n",
    "print(svc_grid.best_estimator_)"
   ]
  },
  {
   "cell_type": "markdown",
   "metadata": {},
   "source": [
    "## 8. Final Model & Pickling\n",
    "\n",
    "Logistic Regression gives us better results, so trying to create a pipeline with imblearn and store the model as a pipeline to be predicted seperately"
   ]
  },
  {
   "cell_type": "code",
   "execution_count": 90,
   "metadata": {},
   "outputs": [],
   "source": [
    "# Identified algorithms with their parameters\n",
    "tfidf = TfidfVectorizer(analyzer='word', token_pattern=r'\\w{1,}', max_features=100000)\n",
    "smote = SMOTE(sampling_strategy = 1 ,k_neighbors = 3, random_state=1)   \n",
    "lr = LogisticRegression(random_state=0,C=10,max_iter=1000, solver='lbfgs',multi_class='multinomial')"
   ]
  },
  {
   "cell_type": "code",
   "execution_count": 91,
   "metadata": {},
   "outputs": [],
   "source": [
    "# Create an imblearn pipeline\n",
    "pipe = make_pipeline(tfidf, smote, lr)"
   ]
  },
  {
   "cell_type": "code",
   "execution_count": 92,
   "metadata": {},
   "outputs": [
    {
     "data": {
      "text/plain": [
       "Pipeline(steps=[('tfidfvectorizer',\n",
       "                 TfidfVectorizer(max_features=100000, token_pattern='\\\\w{1,}')),\n",
       "                ('smote',\n",
       "                 SMOTE(k_neighbors=3, random_state=1, sampling_strategy=1)),\n",
       "                ('logisticregression',\n",
       "                 LogisticRegression(C=10, max_iter=1000,\n",
       "                                    multi_class='multinomial',\n",
       "                                    random_state=0))])"
      ]
     },
     "execution_count": 92,
     "metadata": {},
     "output_type": "execute_result"
    }
   ],
   "source": [
    "# Fit the data against the pipeline\n",
    "model = pipe.fit(x_train, y_train)\n",
    "model"
   ]
  },
  {
   "cell_type": "code",
   "execution_count": 33,
   "metadata": {},
   "outputs": [],
   "source": [
    "# Create the pickle file\n",
    "pickle.dump(model, open('classifier.pkl', 'wb'))"
   ]
  },
  {
   "cell_type": "markdown",
   "metadata": {},
   "source": [
    "## 9. Model Evaluation\n",
    "\n",
    "Evaluating the pipeline with test dataset"
   ]
  },
  {
   "cell_type": "code",
   "execution_count": 93,
   "metadata": {},
   "outputs": [
    {
     "name": "stdout",
     "output_type": "stream",
     "text": [
      "[1 1 1 ... 1 1 1]\n"
     ]
    }
   ],
   "source": [
    "# Predicting the pipeline for test features\n",
    "lr_predict=model.predict(x_test)\n",
    "print(lr_predict)"
   ]
  },
  {
   "cell_type": "code",
   "execution_count": 94,
   "metadata": {},
   "outputs": [
    {
     "name": "stdout",
     "output_type": "stream",
     "text": [
      "LR Accuracy Score : 0.9592801308852936\n",
      "LR Precision Score : 0.9794164668265388\n",
      "LR Recall Score : 0.9759060135404222\n",
      "LR F1 Score : 0.9776580889686813\n"
     ]
    }
   ],
   "source": [
    "# Metrics from the pipeline\n",
    "lf_accuracy=accuracy_score(y_test,lr_predict)\n",
    "print(\"LR Accuracy Score :\",lf_accuracy)\n",
    "\n",
    "lf_precision=precision_score(y_test,lr_predict)\n",
    "print(\"LR Precision Score :\",lf_precision)\n",
    "\n",
    "lf_recall=recall_score(y_test,lr_predict)\n",
    "print(\"LR Recall Score :\",lf_recall)\n",
    "\n",
    "lf_f1=f1_score(y_test,lr_predict)\n",
    "print(\"LR F1 Score :\",lf_f1)"
   ]
  },
  {
   "cell_type": "code",
   "execution_count": 98,
   "metadata": {},
   "outputs": [
    {
     "data": {
      "image/png": "[encoded data removed]",
      "text/plain": [
       "<Figure size 540x540 with 1 Axes>"
      ]
     },
     "metadata": {},
     "output_type": "display_data"
    }
   ],
   "source": [
    "# Calculate the confusion matrix\n",
    "\n",
    "conf_matrix = confusion_matrix(y_true=y_test, y_pred=lr_predict)\n",
    "\n",
    "# Print the confusion matrix using Matplotlib\n",
    "\n",
    "fig, ax = plt.subplots(figsize=(7.5, 7.5))\n",
    "ax.matshow(conf_matrix, cmap=plt.cm.Blues, alpha=0.3)\n",
    "for i in range(conf_matrix.shape[0]):\n",
    "    for j in range(conf_matrix.shape[1]):\n",
    "        ax.text(x=j, y=i,s=conf_matrix[i, j], va='center', ha='center', size='xx-large')\n",
    " \n",
    "plt.xlabel('Predictions', fontsize=18)\n",
    "plt.ylabel('Actuals', fontsize=18)\n",
    "plt.title('Confusion Matrix', fontsize=18)\n",
    "plt.show()"
   ]
  },
  {
   "cell_type": "markdown",
   "metadata": {},
   "source": [
    "The result shows that the model has pretty good Accuracy & F1 score but still we could interpret as the model is biased towards positive sentiments due to the imbalance in the training dataset. This can be improved by trying other sampling techniques Or colleciting more valid minority class data"
   ]
  }
 ],
 "metadata": {
  "kernelspec": {
   "display_name": "Python 3",
   "language": "python",
   "name": "python3"
  },
  "language_info": {
   "codemirror_mode": {
    "name": "ipython",
    "version": 3
   },
   "file_extension": ".py",
   "mimetype": "text/x-python",
   "name": "python",
   "nbconvert_exporter": "python",
   "pygments_lexer": "ipython3",
   "version": "3.7.4"
  }
 },
 "nbformat": 4,
 "nbformat_minor": 2
}
